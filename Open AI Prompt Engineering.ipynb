{
 "cells": [
  {
   "cell_type": "code",
   "execution_count": 1,
   "metadata": {},
   "outputs": [],
   "source": [
    "from openai import OpenAI\n",
    "client = OpenAI()"
   ]
  },
  {
   "cell_type": "code",
   "execution_count": null,
   "metadata": {},
   "outputs": [],
   "source": [
    "completion = client.chat.completions.create(\n",
    "     model=\"gpt-3.5-turbo-instruct\",\n",
    "    messages=[\n",
    "    {\"role\": \"system\", \"content\": \"You will  be provided with a sentence in English, and your task to transalte it into German.\"},\n",
    "    {\"role\": \"user\", \"content\": \"How do you say 'I love to travel' in German.\"}\n",
    "  ],\n",
    "  temperature=0,\n",
    "  max_tokens=64,\n",
    "  top_p=1\n",
    ")\n",
    "print(completion.choices[0].message['content'])"
   ]
  },
  {
   "cell_type": "code",
   "execution_count": 3,
   "metadata": {},
   "outputs": [
    {
     "name": "stdout",
     "output_type": "stream",
     "text": [
      "Generated Text:\n",
      "\n",
      "\n",
      "there lived a beautiful princess named Isabella. She had long, golden hair that cascaded down her back and eyes as blue as the ocean. Isabella lived in a magnificent castle surrounded by lush gardens and sparkling fountains.\n",
      "\n",
      "Isabella was kind\n"
     ]
    }
   ],
   "source": [
    "import openai\n",
    "\n",
    "# Set your OpenAI API key\n",
    "api_key = \"sk-proj-fPzUjnGJlCXiF4JvVS5yT3BlbkFJsKJc5JGJ9nenTsJ8H62L\"\n",
    "\n",
    "# Initialize the OpenAI API client\n",
    "openai.api_key = api_key\n",
    "\n",
    "# Define a prompt\n",
    "prompt = \"Once upon a time, in a land far, far away...\"\n",
    "\n",
    "# Generate text using the Curie model\n",
    "response = openai.completions.create(\n",
    "    model=\"gpt-3.5-turbo-instruct\",\n",
    "    prompt=prompt,\n",
    "    max_tokens=50  # Adjust the desired length of the generated text\n",
    ")\n",
    "\n",
    "# Print the generated text\n",
    "print(\"Generated Text:\")\n",
    "print(response.choices[0].text)"
   ]
  },
  {
   "cell_type": "code",
   "execution_count": null,
   "metadata": {},
   "outputs": [],
   "source": []
  }
 ],
 "metadata": {
  "kernelspec": {
   "display_name": "Python 3",
   "language": "python",
   "name": "python3"
  },
  "language_info": {
   "codemirror_mode": {
    "name": "ipython",
    "version": 3
   },
   "file_extension": ".py",
   "mimetype": "text/x-python",
   "name": "python",
   "nbconvert_exporter": "python",
   "pygments_lexer": "ipython3",
   "version": "3.8.19"
  }
 },
 "nbformat": 4,
 "nbformat_minor": 2
}
